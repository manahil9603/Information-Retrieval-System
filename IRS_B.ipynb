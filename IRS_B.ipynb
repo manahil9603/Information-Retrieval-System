{
 "cells": [
  {
   "cell_type": "markdown",
   "metadata": {},
   "source": [
    "# Assignment 2 IRS - With Synonyms"
   ]
  },
  {
   "cell_type": "markdown",
   "metadata": {},
   "source": [
    "Information retrieval is the process of obtaining information system resources that are relevant to an information need from a collection of those resources. The core purpose of this assignment is to give you the flavor of IRS. You need to follow some steps listed below and in the end, you'll be able to build your own small IRS. So, let's start."
   ]
  },
  {
   "cell_type": "code",
   "execution_count": 48,
   "metadata": {},
   "outputs": [],
   "source": [
    "# required imports\n",
    "import numpy as np\n",
    "import fnmatch\n",
    "import os\n"
   ]
  },
  {
   "cell_type": "markdown",
   "metadata": {},
   "source": [
    "Suppose we have 3 files containing data :"
   ]
  },
  {
   "cell_type": "markdown",
   "metadata": {},
   "source": [
    "### File Contents"
   ]
  },
  {
   "cell_type": "markdown",
   "metadata": {},
   "source": [
    "![\"This is my book\" - File 1](https://github.com/ahmad-14a/CS-F20-ML/blob/main/IRS-Assignment%201/f1.png?raw=true)\n",
    "![\"This is my pen\" - File 1](https://github.com/ahmad-14a/CS-F20-ML/blob/main/IRS-Assignment%201/f2.png?raw=true)\n",
    "![\"This is book is intersting\" - File 1](https://github.com/ahmad-14a/CS-F20-ML/blob/main/IRS-Assignment%201/f3.png?raw=true)"
   ]
  },
  {
   "cell_type": "markdown",
   "metadata": {},
   "source": [
    "# Step 1 Create Files with Dummy data"
   ]
  },
  {
   "cell_type": "markdown",
   "metadata": {},
   "source": [
    "You have to create few files with dummy data of your own choice as shown above."
   ]
  },
  {
   "cell_type": "markdown",
   "metadata": {},
   "source": [
    "# Step 2 Traverse Directories"
   ]
  },
  {
   "cell_type": "markdown",
   "metadata": {},
   "source": [
    " Now, You have to traverse the directories and store all the files into a dict type variable(files_dict). "
   ]
  },
  {
   "cell_type": "code",
   "execution_count": 49,
   "metadata": {},
   "outputs": [],
   "source": [
    "# Here we have initialized some variables, you can add more if required.\n",
    "\n",
    "file_count = 0             # file_count to count number of files\n",
    "files_dict = {}            # files_dic to store count of every file    \n",
    "unique_word_set = set()    # unique_word_set to store all the unique words in a set\n"
   ]
  },
  {
   "cell_type": "code",
   "execution_count": 50,
   "metadata": {},
   "outputs": [
    {
     "name": "stdout",
     "output_type": "stream",
     "text": [
      "{'f1.txt': 0, 'f2.txt': 1, 'f3.txt': 2, 'f4.txt': 3}\n",
      "4\n"
     ]
    }
   ],
   "source": [
    "#Your code starts here   \n",
    "directory = 'Text files' \n",
    "\n",
    "file_count = -1\n",
    "\n",
    "for filename in os.listdir(directory):\n",
    "        files_dict[filename] = file_count\n",
    "        file_count += 1\n",
    "files_dict = {key: val for key, val in files_dict.items() if val != -1}\n",
    "\n",
    "\n",
    "print(files_dict)\n",
    "print(file_count)\n",
    "#Your code ends here       "
   ]
  },
  {
   "cell_type": "markdown",
   "metadata": {},
   "source": [
    "Displaying the count of files."
   ]
  },
  {
   "cell_type": "code",
   "execution_count": 51,
   "metadata": {},
   "outputs": [
    {
     "name": "stdout",
     "output_type": "stream",
     "text": [
      "\n",
      "Total Number  of files\n",
      " 4\n"
     ]
    }
   ],
   "source": [
    "print(\"\\nTotal Number  of files\\n\", file_count)"
   ]
  },
  {
   "cell_type": "markdown",
   "metadata": {},
   "source": [
    "Displaying Dictionary containing all files."
   ]
  },
  {
   "cell_type": "code",
   "execution_count": 52,
   "metadata": {},
   "outputs": [
    {
     "name": "stdout",
     "output_type": "stream",
     "text": [
      "\n",
      "Dictionary containing  files\n",
      " {'f1.txt': 0, 'f2.txt': 1, 'f3.txt': 2, 'f4.txt': 3}\n"
     ]
    }
   ],
   "source": [
    "print(\"\\nDictionary containing  files\\n\", files_dict)"
   ]
  },
  {
   "cell_type": "markdown",
   "metadata": {},
   "source": [
    "# Step 3 Extract Unique Vocabulary"
   ]
  },
  {
   "cell_type": "markdown",
   "metadata": {},
   "source": [
    "write code to print all the unique words in every file and store them in a set"
   ]
  },
  {
   "cell_type": "code",
   "execution_count": 53,
   "metadata": {},
   "outputs": [
    {
     "name": "stdout",
     "output_type": "stream",
     "text": [
      "Unique words in every file\n",
      " {'my', 'is', 'interesting', 'book', 'smooth', 'This', 'pen'}\n"
     ]
    }
   ],
   "source": [
    "contents = []\n",
    "for filename in files_dict:\n",
    "    with open(os.path.join(directory, filename), 'r') as file:\n",
    "        file_contents = file.read()\n",
    "        contents = file_contents.split()\n",
    "        set(contents)\n",
    "        unique_word_set = unique_word_set.union(contents)\n",
    "\n",
    "print(\"Unique words in every file\\n\", unique_word_set)"
   ]
  },
  {
   "cell_type": "markdown",
   "metadata": {},
   "source": [
    "### Expected Output"
   ]
  },
  {
   "cell_type": "markdown",
   "metadata": {},
   "source": [
    "![\"Expected Output of unique words\" - File 1](https://github.com/ahmad-14a/CS-F20-ML/blob/main/IRS-Assignment%201/o1.png?raw=true)\n"
   ]
  },
  {
   "cell_type": "markdown",
   "metadata": {},
   "source": [
    "# Step 4 Create Term Document Matrix"
   ]
  },
  {
   "cell_type": "markdown",
   "metadata": {},
   "source": [
    "Create Term-Doc-matrix using Bag of word approach.and display its contents initially and finally."
   ]
  },
  {
   "cell_type": "markdown",
   "metadata": {},
   "source": [
    "1. Create Term doc matrix such that colmns will be unique words and all the files will be rows\n",
    "2. Write code to count all the unique words appearances in all the files and store it in a dictionary for words "
   ]
  },
  {
   "cell_type": "code",
   "execution_count": 54,
   "metadata": {},
   "outputs": [
    {
     "name": "stdout",
     "output_type": "stream",
     "text": [
      "[[0, 0, 0, 0, 0, 0, 0], [0, 0, 0, 0, 0, 0, 0], [0, 0, 0, 0, 0, 0, 0], [0, 0, 0, 0, 0, 0, 0]]\n",
      "{'my': 0, 'is': 1, 'interesting': 2, 'book': 3, 'smooth': 4, 'This': 5, 'pen': 6}\n"
     ]
    }
   ],
   "source": [
    "#Your code starts here    \n",
    "n = len(unique_word_set)\n",
    "r = len(files_dict)\n",
    "matrix = [[0] * n for _ in range(r)]\n",
    "\n",
    "dict_words = {}\n",
    "j = 0\n",
    "for i in unique_word_set:\n",
    "    dict_words[i] = j\n",
    "    j += 1\n",
    "print(matrix)\n",
    "print(dict_words)\n",
    "#Your code ends here"
   ]
  },
  {
   "cell_type": "markdown",
   "metadata": {},
   "source": [
    "### Expected Output"
   ]
  },
  {
   "cell_type": "markdown",
   "metadata": {},
   "source": [
    "![\"Expected Output of unique words\" - File 1](https://github.com/ahmad-14a/CS-F20-ML/blob/main/IRS-Assignment%201/o2.png?raw=true)"
   ]
  },
  {
   "cell_type": "markdown",
   "metadata": {},
   "source": [
    "# Step 5 Fill Term Document Matrix"
   ]
  },
  {
   "cell_type": "markdown",
   "metadata": {},
   "source": [
    "1. Fill the term doc matrix by checking if the unique word exists in a file or not\n",
    "2. If it exists then substitute a 1 in term_doc_matrix (eg : TERM_DOC_MATRIX[file][word] = 1 ) \n",
    "3. Do the same for all the files present in the directory"
   ]
  },
  {
   "cell_type": "code",
   "execution_count": 55,
   "metadata": {},
   "outputs": [
    {
     "name": "stdout",
     "output_type": "stream",
     "text": [
      "[[1, 1, 0, 1, 0, 1, 0], [1, 1, 0, 0, 0, 1, 1], [1, 1, 1, 1, 0, 0, 0], [0, 1, 0, 0, 1, 0, 1]]\n"
     ]
    }
   ],
   "source": [
    "\n",
    "\n",
    "def func(directory, filename):\n",
    "    with open(os.path.join(directory, filename), 'r') as file:\n",
    "        file_contents = file.read()\n",
    "    return set(file_contents.split())\n",
    "\n",
    "\n",
    "for filename, f in files_dict.items():\n",
    "    words = func(directory, filename)\n",
    "    for word in words:\n",
    "        if word in dict_words:\n",
    "            w = dict_words[word]\n",
    "            matrix[f][w] = 1\n",
    "\n",
    "print(matrix)\n"
   ]
  },
  {
   "cell_type": "markdown",
   "metadata": {},
   "source": [
    "### Expected Output"
   ]
  },
  {
   "cell_type": "markdown",
   "metadata": {},
   "source": [
    "![\"Expected Output of unique words\" - File 1](https://github.com/ahmad-14a/CS-F20-ML/blob/main/IRS-Assignment%201/o4.png?raw=true)\n"
   ]
  },
  {
   "cell_type": "markdown",
   "metadata": {},
   "source": [
    "# Step 6 Ask for a user Query"
   ]
  },
  {
   "cell_type": "markdown",
   "metadata": {},
   "source": [
    "For user query make a column vector of length of all the unique words present in a set"
   ]
  },
  {
   "cell_type": "code",
   "execution_count": 56,
   "metadata": {},
   "outputs": [
    {
     "name": "stdout",
     "output_type": "stream",
     "text": [
      "[[0]\n",
      " [0]\n",
      " [0]\n",
      " [0]\n",
      " [0]\n",
      " [0]\n",
      " [0]]\n"
     ]
    }
   ],
   "source": [
    "#Your code starts here \n",
    "data = [0]*n\n",
    "vctr = np.array(data).reshape(-1, 1)\n",
    "\n",
    "print(vctr)\n",
    "#Your code ends here"
   ]
  },
  {
   "cell_type": "markdown",
   "metadata": {},
   "source": [
    "### Expected Output"
   ]
  },
  {
   "cell_type": "markdown",
   "metadata": {},
   "source": [
    "![\"Expected Output of unique words\" - File 1](https://github.com/ahmad-14a/CS-F20-ML/blob/main/IRS-Assignment%201/o5.png?raw=true)\n"
   ]
  },
  {
   "cell_type": "code",
   "execution_count": 57,
   "metadata": {},
   "outputs": [
    {
     "name": "stdout",
     "output_type": "stream",
     "text": [
      "\n",
      "Write something for searching:  this is a fascinating publication written with a ballpoint\n",
      "Query is: this is a fascinating publication written with a ballpoint\n"
     ]
    }
   ],
   "source": [
    "query = input(\"\\nWrite something for searching:  \")\n",
    "print(\"Query is:\", query)"
   ]
  },
  {
   "cell_type": "markdown",
   "metadata": {},
   "source": [
    "### Expected Output"
   ]
  },
  {
   "cell_type": "markdown",
   "metadata": {},
   "source": [
    "![Expected Output of query](images/Query.png)"
   ]
  },
  {
   "cell_type": "markdown",
   "metadata": {},
   "source": [
    "# Step 7 Load Synonyms"
   ]
  },
  {
   "cell_type": "code",
   "execution_count": 58,
   "metadata": {},
   "outputs": [
    {
     "name": "stdout",
     "output_type": "stream",
     "text": [
      "\n",
      "Synonyms Dictionary\n",
      "\n"
     ]
    },
    {
     "data": {
      "text/plain": [
       "{'write': ['compose', 'draft', 'author', 'create'],\n",
       " 'file': ['document', 'record', 'dossier', 'report'],\n",
       " 'example': ['illustration', 'instance', 'sample', 'demonstration'],\n",
       " 'query': ['question', 'inquiry', 'search', 'request'],\n",
       " 'synonym': ['equivalent', 'substitute', 'alternate', 'replacement'],\n",
       " 'retrieve': ['fetch', 'recover', 'obtain', 'bring back'],\n",
       " 'system': ['framework', 'structure', 'organization', 'arrangement'],\n",
       " 'search': ['seek', 'look for', 'explore', 'examine'],\n",
       " 'lost': ['misplaced', 'missing', 'forgotten', 'mislaid'],\n",
       " 'pen': ['write', 'ink', 'ballpoint', 'fountain'],\n",
       " 'paper': ['document', 'sheet', 'form', 'letter'],\n",
       " 'book': ['novel', 'volume', 'publication', 'tome'],\n",
       " 'read': ['peruse', 'scan', 'study', 'look at'],\n",
       " 'interesting': ['fascinating', 'engaging', 'intriguing', 'absorbing'],\n",
       " 'computer': ['machine', 'device', 'processor', 'laptop'],\n",
       " 'software': ['program', 'application', 'app', 'platform']}"
      ]
     },
     "execution_count": 58,
     "metadata": {},
     "output_type": "execute_result"
    }
   ],
   "source": [
    "synonym_file_path = r\"files\\synonyms.txt\"\n",
    "synonyms_dict = {} # dictionary to store synonyms\n",
    "#your code starts here\n",
    "\n",
    "\n",
    "with open(synonym_file_path, 'r') as file:\n",
    "    for line in file:\n",
    "        words = line.strip().split(':')\n",
    "        if len(words) >= 2:\n",
    "            key = words[0].strip()\n",
    "            synonyms = [syn.strip() for syn in words[1].split(',')]\n",
    "            synonyms_dict[key] = synonyms\n",
    "\n",
    "\n",
    "\n",
    "#your code ends here\n",
    "\n",
    "print(\"\\nSynonyms Dictionary\\n\")\n",
    "synonyms_dict"
   ]
  },
  {
   "cell_type": "markdown",
   "metadata": {},
   "source": [
    "### Expected Output"
   ]
  },
  {
   "cell_type": "markdown",
   "metadata": {},
   "source": [
    "![Synonym Dict Example](images\\Synonym_dict.png)"
   ]
  },
  {
   "cell_type": "markdown",
   "metadata": {},
   "source": [
    "# Step 8 Extend User Query"
   ]
  },
  {
   "cell_type": "code",
   "execution_count": 59,
   "metadata": {},
   "outputs": [
    {
     "name": "stdout",
     "output_type": "stream",
     "text": [
      "Expanded Query:\n",
      "['this', 'is', 'a', 'fascinating', 'interesting', 'publication', 'book', 'written', 'with', 'a', 'ballpoint', 'pen']\n"
     ]
    }
   ],
   "source": [
    "expanded_query = []\n",
    "# Write code to expand the query using synonyms\n",
    "#your code starts here\n",
    "def find_keys_by_value(dictionary, target_value):\n",
    "    keys = []\n",
    "    for key, values in dictionary.items():\n",
    "        if target_value in values:\n",
    "            keys.append(key)\n",
    "    return keys\n",
    "\n",
    "\n",
    "query_words = query.split()\n",
    "\n",
    "\n",
    "keys_for_query_words = []\n",
    "for word in query_words:\n",
    "    keys = find_keys_by_value(synonyms_dict, word)\n",
    "    if keys:\n",
    "        expanded_query.append(word)\n",
    "        expanded_query.extend(keys)\n",
    "    else:\n",
    "        expanded_query.append(word) \n",
    "\n",
    "print(\"Expanded Query:\")\n",
    "print(expanded_query)\n",
    "\n",
    "#your code ends here\n",
    "\n"
   ]
  },
  {
   "cell_type": "markdown",
   "metadata": {},
   "source": [
    "### Expected Output"
   ]
  },
  {
   "cell_type": "markdown",
   "metadata": {},
   "source": [
    "![Extended Query](images\\Expanded_Query.png)"
   ]
  },
  {
   "cell_type": "markdown",
   "metadata": {},
   "source": [
    "Now work with extended query and find the relevant documents."
   ]
  },
  {
   "cell_type": "code",
   "execution_count": null,
   "metadata": {},
   "outputs": [],
   "source": [
    "# Check every word of query if it exists in the set of unique words or not\n",
    "# If exists then increment the count of that word in word dictionary\n"
   ]
  },
  {
   "cell_type": "code",
   "execution_count": 60,
   "metadata": {},
   "outputs": [
    {
     "name": "stdout",
     "output_type": "stream",
     "text": [
      "[[0]\n",
      " [1]\n",
      " [1]\n",
      " [1]\n",
      " [0]\n",
      " [0]\n",
      " [1]]\n"
     ]
    }
   ],
   "source": [
    "#Your code starts here    \n",
    "\n",
    "for w in expanded_query:\n",
    "    if w in unique_word_set:\n",
    "        a = dict_words[w]  \n",
    "        vctr[a,:] += 1\n",
    "print(vctr)\n",
    "#Your code ends here"
   ]
  },
  {
   "cell_type": "markdown",
   "metadata": {},
   "source": [
    "### Expected Output"
   ]
  },
  {
   "cell_type": "markdown",
   "metadata": {},
   "source": [
    "![\"Expected Output of unique words\" - File 1](https://github.com/ahmad-14a/CS-F20-ML/blob/main/IRS-Assignment%201/o6.png?raw=true)\n"
   ]
  },
  {
   "cell_type": "markdown",
   "metadata": {},
   "source": [
    "# Step 7 Display Resultant Vector"
   ]
  },
  {
   "cell_type": "markdown",
   "metadata": {},
   "source": [
    "Display \n",
    "1. Resultant vector.\n",
    "2. Max value in resultant vector.\n",
    "3. Index of max value in resultant vector.\n"
   ]
  },
  {
   "cell_type": "code",
   "execution_count": 61,
   "metadata": {},
   "outputs": [
    {
     "name": "stdout",
     "output_type": "stream",
     "text": [
      "[[2]\n",
      " [2]\n",
      " [3]\n",
      " [2]]\n",
      "Maximum value: 3\n",
      "Index of maximum value: 2\n"
     ]
    }
   ],
   "source": [
    "#Your code starts here  \n",
    "result = np.dot(matrix, vctr)\n",
    "print(result)\n",
    "max_value = np.max(result)\n",
    "max_index = np.argmax(result)\n",
    "\n",
    "print(\"Maximum value:\", max_value)\n",
    "print(\"Index of maximum value:\", max_index)\n",
    "\n",
    "#Your code ends here"
   ]
  },
  {
   "cell_type": "markdown",
   "metadata": {},
   "source": [
    "### Expected Output"
   ]
  },
  {
   "cell_type": "markdown",
   "metadata": {},
   "source": [
    "![\"Expected Output of unique words\" - File 1](https://github.com/ahmad-14a/CS-F20-ML/blob/main/IRS-Assignment%201/o7.png?raw=true)\n"
   ]
  },
  {
   "cell_type": "markdown",
   "metadata": {},
   "source": [
    "# Step 8 Display the contents of file\n"
   ]
  },
  {
   "cell_type": "markdown",
   "metadata": {},
   "source": [
    "Write the code to identify the file_name having maximum value in the resultant vector and display its contents."
   ]
  },
  {
   "cell_type": "code",
   "execution_count": 65,
   "metadata": {},
   "outputs": [
    {
     "name": "stdout",
     "output_type": "stream",
     "text": [
      "my book is interesting\n"
     ]
    }
   ],
   "source": [
    "#Your code starts here\n",
    "def find_key_by_value(dictionary, value):\n",
    "    for key, val in dictionary.items():\n",
    "        if val == value:\n",
    "            return key\n",
    "    return None\n",
    "f = find_key_by_value(files_dict,max_index)\n",
    "with open(os.path.join(directory, f), 'r') as file:\n",
    "    print(file.read())\n",
    "\n",
    "\n",
    "#Your code ends here"
   ]
  },
  {
   "cell_type": "markdown",
   "metadata": {},
   "source": [
    "Congratulations Now you are able to build your own small IRS which can work even if query does not have exact same words."
   ]
  }
 ],
 "metadata": {
  "kernelspec": {
   "display_name": "Python 3 (ipykernel)",
   "language": "python",
   "name": "python3"
  },
  "language_info": {
   "codemirror_mode": {
    "name": "ipython",
    "version": 3
   },
   "file_extension": ".py",
   "mimetype": "text/x-python",
   "name": "python",
   "nbconvert_exporter": "python",
   "pygments_lexer": "ipython3",
   "version": "3.11.5"
  }
 },
 "nbformat": 4,
 "nbformat_minor": 4
}
